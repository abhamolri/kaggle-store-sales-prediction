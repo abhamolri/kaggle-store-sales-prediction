{
 "cells": [
  {
   "cell_type": "markdown",
   "id": "bef5867e",
   "metadata": {},
   "source": [
    "# Import the libraries"
   ]
  },
  {
   "cell_type": "code",
   "execution_count": 249,
   "id": "3a586b40",
   "metadata": {},
   "outputs": [],
   "source": [
    "import pandas as pd\n",
    "import numpy as np\n",
    "import matplotlib.pyplot as plt\n",
    "%matplotlib inline\n",
    "import seaborn as sns"
   ]
  },
  {
   "cell_type": "markdown",
   "id": "0a6becc7",
   "metadata": {},
   "source": [
    "# Read the input datasets"
   ]
  },
  {
   "cell_type": "code",
   "execution_count": 250,
   "id": "9223f64f",
   "metadata": {},
   "outputs": [],
   "source": [
    "holidays_df = pd.read_csv('../data/holidays_events.csv')\n",
    "oil_prices_df = pd.read_csv('../data/oil.csv')\n",
    "stores_info_df = pd.read_csv('../data/stores.csv')\n",
    "transactions_by_stores_df = pd.read_csv('../data/transactions.csv')\n",
    "train_df = pd.read_csv('../data/train.csv')"
   ]
  },
  {
   "cell_type": "markdown",
   "id": "23f0b7fb",
   "metadata": {},
   "source": [
    "# EDA on the training dataset"
   ]
  },
  {
   "cell_type": "code",
   "execution_count": 251,
   "id": "10ff3360",
   "metadata": {},
   "outputs": [
    {
     "data": {
      "text/html": [
       "<div>\n",
       "<style scoped>\n",
       "    .dataframe tbody tr th:only-of-type {\n",
       "        vertical-align: middle;\n",
       "    }\n",
       "\n",
       "    .dataframe tbody tr th {\n",
       "        vertical-align: top;\n",
       "    }\n",
       "\n",
       "    .dataframe thead th {\n",
       "        text-align: right;\n",
       "    }\n",
       "</style>\n",
       "<table border=\"1\" class=\"dataframe\">\n",
       "  <thead>\n",
       "    <tr style=\"text-align: right;\">\n",
       "      <th></th>\n",
       "      <th>id</th>\n",
       "      <th>date</th>\n",
       "      <th>store_nbr</th>\n",
       "      <th>family</th>\n",
       "      <th>sales</th>\n",
       "      <th>onpromotion</th>\n",
       "    </tr>\n",
       "  </thead>\n",
       "  <tbody>\n",
       "    <tr>\n",
       "      <th>0</th>\n",
       "      <td>0</td>\n",
       "      <td>2013-01-01</td>\n",
       "      <td>1</td>\n",
       "      <td>AUTOMOTIVE</td>\n",
       "      <td>0.0</td>\n",
       "      <td>0</td>\n",
       "    </tr>\n",
       "  </tbody>\n",
       "</table>\n",
       "</div>"
      ],
      "text/plain": [
       "   id        date  store_nbr      family  sales  onpromotion\n",
       "0   0  2013-01-01          1  AUTOMOTIVE    0.0            0"
      ]
     },
     "execution_count": 251,
     "metadata": {},
     "output_type": "execute_result"
    }
   ],
   "source": [
    "train_df.head(1)"
   ]
  },
  {
   "cell_type": "code",
   "execution_count": 253,
   "id": "7d4d62a6",
   "metadata": {},
   "outputs": [
    {
     "data": {
      "text/html": [
       "<div>\n",
       "<style scoped>\n",
       "    .dataframe tbody tr th:only-of-type {\n",
       "        vertical-align: middle;\n",
       "    }\n",
       "\n",
       "    .dataframe tbody tr th {\n",
       "        vertical-align: top;\n",
       "    }\n",
       "\n",
       "    .dataframe thead th {\n",
       "        text-align: right;\n",
       "    }\n",
       "</style>\n",
       "<table border=\"1\" class=\"dataframe\">\n",
       "  <thead>\n",
       "    <tr style=\"text-align: right;\">\n",
       "      <th></th>\n",
       "      <th>product_id</th>\n",
       "      <th>date</th>\n",
       "      <th>store_nbr</th>\n",
       "      <th>product_family</th>\n",
       "      <th>total_sales_by_product</th>\n",
       "      <th>onpromotion</th>\n",
       "    </tr>\n",
       "  </thead>\n",
       "  <tbody>\n",
       "    <tr>\n",
       "      <th>0</th>\n",
       "      <td>0</td>\n",
       "      <td>2013-01-01</td>\n",
       "      <td>1</td>\n",
       "      <td>AUTOMOTIVE</td>\n",
       "      <td>0.0</td>\n",
       "      <td>0</td>\n",
       "    </tr>\n",
       "    <tr>\n",
       "      <th>1</th>\n",
       "      <td>1</td>\n",
       "      <td>2013-01-01</td>\n",
       "      <td>1</td>\n",
       "      <td>BABY CARE</td>\n",
       "      <td>0.0</td>\n",
       "      <td>0</td>\n",
       "    </tr>\n",
       "    <tr>\n",
       "      <th>2</th>\n",
       "      <td>2</td>\n",
       "      <td>2013-01-01</td>\n",
       "      <td>1</td>\n",
       "      <td>BEAUTY</td>\n",
       "      <td>0.0</td>\n",
       "      <td>0</td>\n",
       "    </tr>\n",
       "    <tr>\n",
       "      <th>3</th>\n",
       "      <td>3</td>\n",
       "      <td>2013-01-01</td>\n",
       "      <td>1</td>\n",
       "      <td>BEVERAGES</td>\n",
       "      <td>0.0</td>\n",
       "      <td>0</td>\n",
       "    </tr>\n",
       "    <tr>\n",
       "      <th>4</th>\n",
       "      <td>4</td>\n",
       "      <td>2013-01-01</td>\n",
       "      <td>1</td>\n",
       "      <td>BOOKS</td>\n",
       "      <td>0.0</td>\n",
       "      <td>0</td>\n",
       "    </tr>\n",
       "  </tbody>\n",
       "</table>\n",
       "</div>"
      ],
      "text/plain": [
       "   product_id        date  store_nbr product_family  total_sales_by_product  \\\n",
       "0           0  2013-01-01          1     AUTOMOTIVE                     0.0   \n",
       "1           1  2013-01-01          1      BABY CARE                     0.0   \n",
       "2           2  2013-01-01          1         BEAUTY                     0.0   \n",
       "3           3  2013-01-01          1      BEVERAGES                     0.0   \n",
       "4           4  2013-01-01          1          BOOKS                     0.0   \n",
       "\n",
       "   onpromotion  \n",
       "0            0  \n",
       "1            0  \n",
       "2            0  \n",
       "3            0  \n",
       "4            0  "
      ]
     },
     "execution_count": 253,
     "metadata": {},
     "output_type": "execute_result"
    }
   ],
   "source": [
    "train_df.rename(columns = {'id': 'product_id', \n",
    "                 'family': 'product_family', \n",
    "                 'sales': 'total_sales_by_product'}, inplace = True)\n",
    "train_df.head()"
   ]
  },
  {
   "cell_type": "code",
   "execution_count": 254,
   "id": "bbdec424",
   "metadata": {},
   "outputs": [
    {
     "data": {
      "text/plain": [
       "(3000888, 6)"
      ]
     },
     "execution_count": 254,
     "metadata": {},
     "output_type": "execute_result"
    }
   ],
   "source": [
    "train_df.shape"
   ]
  },
  {
   "cell_type": "code",
   "execution_count": 255,
   "id": "46450aeb",
   "metadata": {},
   "outputs": [
    {
     "name": "stdout",
     "output_type": "stream",
     "text": [
      "<class 'pandas.core.frame.DataFrame'>\n",
      "RangeIndex: 3000888 entries, 0 to 3000887\n",
      "Data columns (total 6 columns):\n",
      " #   Column                  Dtype  \n",
      "---  ------                  -----  \n",
      " 0   product_id              int64  \n",
      " 1   date                    object \n",
      " 2   store_nbr               int64  \n",
      " 3   product_family          object \n",
      " 4   total_sales_by_product  float64\n",
      " 5   onpromotion             int64  \n",
      "dtypes: float64(1), int64(3), object(2)\n",
      "memory usage: 137.4+ MB\n"
     ]
    }
   ],
   "source": [
    "train_df.info()"
   ]
  },
  {
   "cell_type": "code",
   "execution_count": 256,
   "id": "375cdcfd",
   "metadata": {},
   "outputs": [
    {
     "data": {
      "text/html": [
       "<div>\n",
       "<style scoped>\n",
       "    .dataframe tbody tr th:only-of-type {\n",
       "        vertical-align: middle;\n",
       "    }\n",
       "\n",
       "    .dataframe tbody tr th {\n",
       "        vertical-align: top;\n",
       "    }\n",
       "\n",
       "    .dataframe thead th {\n",
       "        text-align: right;\n",
       "    }\n",
       "</style>\n",
       "<table border=\"1\" class=\"dataframe\">\n",
       "  <thead>\n",
       "    <tr style=\"text-align: right;\">\n",
       "      <th></th>\n",
       "      <th>product_id</th>\n",
       "      <th>date</th>\n",
       "      <th>store_nbr</th>\n",
       "      <th>product_family</th>\n",
       "      <th>total_sales_by_product</th>\n",
       "      <th>onpromotion</th>\n",
       "    </tr>\n",
       "  </thead>\n",
       "  <tbody>\n",
       "    <tr>\n",
       "      <th>count</th>\n",
       "      <td>3000888</td>\n",
       "      <td>3000888</td>\n",
       "      <td>3000888</td>\n",
       "      <td>3000888</td>\n",
       "      <td>3000888</td>\n",
       "      <td>3000888</td>\n",
       "    </tr>\n",
       "    <tr>\n",
       "      <th>size</th>\n",
       "      <td>3000888</td>\n",
       "      <td>3000888</td>\n",
       "      <td>3000888</td>\n",
       "      <td>3000888</td>\n",
       "      <td>3000888</td>\n",
       "      <td>3000888</td>\n",
       "    </tr>\n",
       "    <tr>\n",
       "      <th>nunique</th>\n",
       "      <td>3000888</td>\n",
       "      <td>1684</td>\n",
       "      <td>54</td>\n",
       "      <td>33</td>\n",
       "      <td>379610</td>\n",
       "      <td>362</td>\n",
       "    </tr>\n",
       "  </tbody>\n",
       "</table>\n",
       "</div>"
      ],
      "text/plain": [
       "         product_id     date  store_nbr  product_family  \\\n",
       "count       3000888  3000888    3000888         3000888   \n",
       "size        3000888  3000888    3000888         3000888   \n",
       "nunique     3000888     1684         54              33   \n",
       "\n",
       "         total_sales_by_product  onpromotion  \n",
       "count                   3000888      3000888  \n",
       "size                    3000888      3000888  \n",
       "nunique                  379610          362  "
      ]
     },
     "execution_count": 256,
     "metadata": {},
     "output_type": "execute_result"
    }
   ],
   "source": [
    "train_df.agg(['count', 'size', 'nunique']) # size inclues NaN/null values and count does not"
   ]
  },
  {
   "cell_type": "markdown",
   "id": "5ce41c0d",
   "metadata": {},
   "source": [
    "# Check for missing values"
   ]
  },
  {
   "cell_type": "code",
   "execution_count": 257,
   "id": "5719a67a",
   "metadata": {},
   "outputs": [
    {
     "data": {
      "text/plain": [
       "product_id                0\n",
       "date                      0\n",
       "store_nbr                 0\n",
       "product_family            0\n",
       "total_sales_by_product    0\n",
       "onpromotion               0\n",
       "dtype: int64"
      ]
     },
     "execution_count": 257,
     "metadata": {},
     "output_type": "execute_result"
    }
   ],
   "source": [
    "train_df.isnull().sum()"
   ]
  },
  {
   "cell_type": "markdown",
   "id": "7005fed6",
   "metadata": {},
   "source": [
    "# Check if there are any invalid values for columns with dtype String"
   ]
  },
  {
   "cell_type": "code",
   "execution_count": 258,
   "id": "c1c543d4",
   "metadata": {},
   "outputs": [
    {
     "data": {
      "text/plain": [
       "['date', 'product_family']"
      ]
     },
     "execution_count": 258,
     "metadata": {},
     "output_type": "execute_result"
    }
   ],
   "source": [
    "list(train_df.dtypes[train_df.dtypes == object].index)"
   ]
  },
  {
   "cell_type": "code",
   "execution_count": 259,
   "id": "f2556ab4",
   "metadata": {},
   "outputs": [
    {
     "name": "stdout",
     "output_type": "stream",
     "text": [
      "Column Name:  date\n",
      "['2013-01-01' '2013-01-02' '2013-01-03' ... '2017-08-13' '2017-08-14'\n",
      " '2017-08-15']\n",
      "Column Name:  product_family\n",
      "['AUTOMOTIVE' 'BABY CARE' 'BEAUTY' 'BEVERAGES' 'BOOKS' 'BREAD/BAKERY'\n",
      " 'CELEBRATION' 'CLEANING' 'DAIRY' 'DELI' 'EGGS' 'FROZEN FOODS' 'GROCERY I'\n",
      " 'GROCERY II' 'HARDWARE' 'HOME AND KITCHEN I' 'HOME AND KITCHEN II'\n",
      " 'HOME APPLIANCES' 'HOME CARE' 'LADIESWEAR' 'LAWN AND GARDEN' 'LINGERIE'\n",
      " 'LIQUOR,WINE,BEER' 'MAGAZINES' 'MEATS' 'PERSONAL CARE' 'PET SUPPLIES'\n",
      " 'PLAYERS AND ELECTRONICS' 'POULTRY' 'PREPARED FOODS' 'PRODUCE'\n",
      " 'SCHOOL AND OFFICE SUPPLIES' 'SEAFOOD']\n"
     ]
    }
   ],
   "source": [
    "for col in list(train_df.dtypes[train_df.dtypes == object].index):\n",
    "    print('Column Name: ', col)\n",
    "    print(train_df[col].unique())"
   ]
  },
  {
   "cell_type": "markdown",
   "id": "828691ea",
   "metadata": {},
   "source": [
    "# Check correlation between the variables"
   ]
  },
  {
   "cell_type": "code",
   "execution_count": 265,
   "id": "442f460e",
   "metadata": {},
   "outputs": [
    {
     "data": {
      "text/plain": [
       "<AxesSubplot:>"
      ]
     },
     "execution_count": 265,
     "metadata": {},
     "output_type": "execute_result"
    },
    {
     "data": {
      "image/png": "[encoded data removed]",
      "text/plain": [
       "<Figure size 720x720 with 2 Axes>"
      ]
     },
     "metadata": {
      "needs_background": "light"
     },
     "output_type": "display_data"
    }
   ],
   "source": [
    "plt.figure(figsize=(10, 10))\n",
    "sns.heatmap(train_df.corr(), cbar=True, annot=True, cmap='Blues')"
   ]
  },
  {
   "cell_type": "markdown",
   "id": "61666c6c",
   "metadata": {},
   "source": [
    "### From the above heatmap, none of the features are highly correlated"
   ]
  },
  {
   "cell_type": "markdown",
   "id": "9c7a07c4",
   "metadata": {},
   "source": [
    "# Relationship between total sales and number of items on promotion"
   ]
  },
  {
   "cell_type": "code",
   "execution_count": 266,
   "id": "297e9160",
   "metadata": {},
   "outputs": [
    {
     "data": {
      "image/png": "[encoded data removed]",
      "text/plain": [
       "<Figure size 864x864 with 1 Axes>"
      ]
     },
     "metadata": {
      "needs_background": "light"
     },
     "output_type": "display_data"
    }
   ],
   "source": [
    "plt.figure(figsize=(12, 12))\n",
    "plt.scatter(x='onpromotion', y='total_sales_by_product', data=train_df)\n",
    "plt.xlabel('No of items on promotion')\n",
    "plt.ylabel('Total sales')\n",
    "plt.show()"
   ]
  },
  {
   "cell_type": "markdown",
   "id": "37dee9f1",
   "metadata": {},
   "source": [
    "# EDA on the oil dataset"
   ]
  },
  {
   "cell_type": "code",
   "execution_count": 267,
   "id": "8406d344",
   "metadata": {},
   "outputs": [
    {
     "data": {
      "text/plain": [
       "(1218, 2)"
      ]
     },
     "execution_count": 267,
     "metadata": {},
     "output_type": "execute_result"
    }
   ],
   "source": [
    "oil_prices_df.shape"
   ]
  },
  {
   "cell_type": "code",
   "execution_count": 268,
   "id": "e912cbe4",
   "metadata": {},
   "outputs": [
    {
     "data": {
      "text/html": [
       "<div>\n",
       "<style scoped>\n",
       "    .dataframe tbody tr th:only-of-type {\n",
       "        vertical-align: middle;\n",
       "    }\n",
       "\n",
       "    .dataframe tbody tr th {\n",
       "        vertical-align: top;\n",
       "    }\n",
       "\n",
       "    .dataframe thead th {\n",
       "        text-align: right;\n",
       "    }\n",
       "</style>\n",
       "<table border=\"1\" class=\"dataframe\">\n",
       "  <thead>\n",
       "    <tr style=\"text-align: right;\">\n",
       "      <th></th>\n",
       "      <th>date</th>\n",
       "      <th>dcoilwtico</th>\n",
       "    </tr>\n",
       "  </thead>\n",
       "  <tbody>\n",
       "    <tr>\n",
       "      <th>0</th>\n",
       "      <td>2013-01-01</td>\n",
       "      <td>NaN</td>\n",
       "    </tr>\n",
       "    <tr>\n",
       "      <th>1</th>\n",
       "      <td>2013-01-02</td>\n",
       "      <td>93.14</td>\n",
       "    </tr>\n",
       "    <tr>\n",
       "      <th>2</th>\n",
       "      <td>2013-01-03</td>\n",
       "      <td>92.97</td>\n",
       "    </tr>\n",
       "    <tr>\n",
       "      <th>3</th>\n",
       "      <td>2013-01-04</td>\n",
       "      <td>93.12</td>\n",
       "    </tr>\n",
       "    <tr>\n",
       "      <th>4</th>\n",
       "      <td>2013-01-07</td>\n",
       "      <td>93.20</td>\n",
       "    </tr>\n",
       "  </tbody>\n",
       "</table>\n",
       "</div>"
      ],
      "text/plain": [
       "         date  dcoilwtico\n",
       "0  2013-01-01         NaN\n",
       "1  2013-01-02       93.14\n",
       "2  2013-01-03       92.97\n",
       "3  2013-01-04       93.12\n",
       "4  2013-01-07       93.20"
      ]
     },
     "execution_count": 268,
     "metadata": {},
     "output_type": "execute_result"
    }
   ],
   "source": [
    "oil_prices_df.head(5)"
   ]
  },
  {
   "cell_type": "code",
   "execution_count": 269,
   "id": "d7ad4fb4",
   "metadata": {},
   "outputs": [
    {
     "name": "stdout",
     "output_type": "stream",
     "text": [
      "<class 'pandas.core.frame.DataFrame'>\n",
      "RangeIndex: 1218 entries, 0 to 1217\n",
      "Data columns (total 2 columns):\n",
      " #   Column      Non-Null Count  Dtype  \n",
      "---  ------      --------------  -----  \n",
      " 0   date        1218 non-null   object \n",
      " 1   dcoilwtico  1175 non-null   float64\n",
      "dtypes: float64(1), object(1)\n",
      "memory usage: 19.2+ KB\n"
     ]
    }
   ],
   "source": [
    "oil_prices_df.info()"
   ]
  },
  {
   "cell_type": "code",
   "execution_count": 270,
   "id": "77e68890",
   "metadata": {},
   "outputs": [
    {
     "data": {
      "text/html": [
       "<div>\n",
       "<style scoped>\n",
       "    .dataframe tbody tr th:only-of-type {\n",
       "        vertical-align: middle;\n",
       "    }\n",
       "\n",
       "    .dataframe tbody tr th {\n",
       "        vertical-align: top;\n",
       "    }\n",
       "\n",
       "    .dataframe thead th {\n",
       "        text-align: right;\n",
       "    }\n",
       "</style>\n",
       "<table border=\"1\" class=\"dataframe\">\n",
       "  <thead>\n",
       "    <tr style=\"text-align: right;\">\n",
       "      <th></th>\n",
       "      <th>date</th>\n",
       "      <th>dcoilwtico</th>\n",
       "    </tr>\n",
       "  </thead>\n",
       "  <tbody>\n",
       "    <tr>\n",
       "      <th>count</th>\n",
       "      <td>1218</td>\n",
       "      <td>1175</td>\n",
       "    </tr>\n",
       "    <tr>\n",
       "      <th>size</th>\n",
       "      <td>1218</td>\n",
       "      <td>1218</td>\n",
       "    </tr>\n",
       "    <tr>\n",
       "      <th>nunique</th>\n",
       "      <td>1218</td>\n",
       "      <td>998</td>\n",
       "    </tr>\n",
       "  </tbody>\n",
       "</table>\n",
       "</div>"
      ],
      "text/plain": [
       "         date  dcoilwtico\n",
       "count    1218        1175\n",
       "size     1218        1218\n",
       "nunique  1218         998"
      ]
     },
     "execution_count": 270,
     "metadata": {},
     "output_type": "execute_result"
    }
   ],
   "source": [
    "oil_prices_df.agg(['count', 'size', 'nunique'])"
   ]
  },
  {
   "cell_type": "markdown",
   "id": "cb49e676",
   "metadata": {},
   "source": [
    "# Check for missing values"
   ]
  },
  {
   "cell_type": "code",
   "execution_count": 271,
   "id": "fab82d02",
   "metadata": {},
   "outputs": [
    {
     "data": {
      "text/plain": [
       "date           0\n",
       "dcoilwtico    43\n",
       "dtype: int64"
      ]
     },
     "execution_count": 271,
     "metadata": {},
     "output_type": "execute_result"
    }
   ],
   "source": [
    "oil_prices_df.isnull().sum()"
   ]
  },
  {
   "cell_type": "markdown",
   "id": "fc83c9d2",
   "metadata": {},
   "source": [
    "# Visualize missing data using Heatmap"
   ]
  },
  {
   "cell_type": "code",
   "execution_count": 272,
   "id": "c0de51ab",
   "metadata": {},
   "outputs": [
    {
     "data": {
      "text/plain": [
       "<AxesSubplot:>"
      ]
     },
     "execution_count": 272,
     "metadata": {},
     "output_type": "execute_result"
    },
    {
     "data": {
      "image/png": "[encoded data removed]",
      "text/plain": [
       "<Figure size 432x288 with 1 Axes>"
      ]
     },
     "metadata": {
      "needs_background": "light"
     },
     "output_type": "display_data"
    }
   ],
   "source": [
    "sns.heatmap(oil_prices_df.isnull(),cbar=False,cmap='viridis')"
   ]
  },
  {
   "cell_type": "markdown",
   "id": "36f4ae4b",
   "metadata": {},
   "source": [
    "# Replace the missing values with mean"
   ]
  },
  {
   "cell_type": "code",
   "execution_count": 273,
   "id": "ed7d88ea",
   "metadata": {},
   "outputs": [],
   "source": [
    "mean_oil_price_value = oil_prices_df['dcoilwtico'].mean()\n",
    "\n",
    "oil_prices_df['dcoilwtico'].fillna(value=mean_oil_price_value, inplace=True)"
   ]
  },
  {
   "cell_type": "code",
   "execution_count": 274,
   "id": "608ca321",
   "metadata": {},
   "outputs": [
    {
     "data": {
      "text/plain": [
       "date          0\n",
       "dcoilwtico    0\n",
       "dtype: int64"
      ]
     },
     "execution_count": 274,
     "metadata": {},
     "output_type": "execute_result"
    }
   ],
   "source": [
    "oil_prices_df.isnull().sum()"
   ]
  },
  {
   "cell_type": "markdown",
   "id": "2ecfa593",
   "metadata": {},
   "source": [
    "# EDA on the stores dataset"
   ]
  },
  {
   "cell_type": "code",
   "execution_count": 275,
   "id": "a6d15178",
   "metadata": {},
   "outputs": [
    {
     "data": {
      "text/plain": [
       "(54, 5)"
      ]
     },
     "execution_count": 275,
     "metadata": {},
     "output_type": "execute_result"
    }
   ],
   "source": [
    "stores_info_df.shape"
   ]
  },
  {
   "cell_type": "code",
   "execution_count": 276,
   "id": "8c3f22f4",
   "metadata": {},
   "outputs": [
    {
     "data": {
      "text/html": [
       "<div>\n",
       "<style scoped>\n",
       "    .dataframe tbody tr th:only-of-type {\n",
       "        vertical-align: middle;\n",
       "    }\n",
       "\n",
       "    .dataframe tbody tr th {\n",
       "        vertical-align: top;\n",
       "    }\n",
       "\n",
       "    .dataframe thead th {\n",
       "        text-align: right;\n",
       "    }\n",
       "</style>\n",
       "<table border=\"1\" class=\"dataframe\">\n",
       "  <thead>\n",
       "    <tr style=\"text-align: right;\">\n",
       "      <th></th>\n",
       "      <th>store_nbr</th>\n",
       "      <th>city</th>\n",
       "      <th>state</th>\n",
       "      <th>type</th>\n",
       "      <th>cluster</th>\n",
       "    </tr>\n",
       "  </thead>\n",
       "  <tbody>\n",
       "    <tr>\n",
       "      <th>0</th>\n",
       "      <td>1</td>\n",
       "      <td>Quito</td>\n",
       "      <td>Pichincha</td>\n",
       "      <td>D</td>\n",
       "      <td>13</td>\n",
       "    </tr>\n",
       "    <tr>\n",
       "      <th>1</th>\n",
       "      <td>2</td>\n",
       "      <td>Quito</td>\n",
       "      <td>Pichincha</td>\n",
       "      <td>D</td>\n",
       "      <td>13</td>\n",
       "    </tr>\n",
       "    <tr>\n",
       "      <th>2</th>\n",
       "      <td>3</td>\n",
       "      <td>Quito</td>\n",
       "      <td>Pichincha</td>\n",
       "      <td>D</td>\n",
       "      <td>8</td>\n",
       "    </tr>\n",
       "    <tr>\n",
       "      <th>3</th>\n",
       "      <td>4</td>\n",
       "      <td>Quito</td>\n",
       "      <td>Pichincha</td>\n",
       "      <td>D</td>\n",
       "      <td>9</td>\n",
       "    </tr>\n",
       "    <tr>\n",
       "      <th>4</th>\n",
       "      <td>5</td>\n",
       "      <td>Santo Domingo</td>\n",
       "      <td>Santo Domingo de los Tsachilas</td>\n",
       "      <td>D</td>\n",
       "      <td>4</td>\n",
       "    </tr>\n",
       "  </tbody>\n",
       "</table>\n",
       "</div>"
      ],
      "text/plain": [
       "   store_nbr           city                           state type  cluster\n",
       "0          1          Quito                       Pichincha    D       13\n",
       "1          2          Quito                       Pichincha    D       13\n",
       "2          3          Quito                       Pichincha    D        8\n",
       "3          4          Quito                       Pichincha    D        9\n",
       "4          5  Santo Domingo  Santo Domingo de los Tsachilas    D        4"
      ]
     },
     "execution_count": 276,
     "metadata": {},
     "output_type": "execute_result"
    }
   ],
   "source": [
    "stores_info_df.head()"
   ]
  },
  {
   "cell_type": "code",
   "execution_count": 277,
   "id": "d45d35b6",
   "metadata": {},
   "outputs": [
    {
     "name": "stdout",
     "output_type": "stream",
     "text": [
      "<class 'pandas.core.frame.DataFrame'>\n",
      "RangeIndex: 54 entries, 0 to 53\n",
      "Data columns (total 5 columns):\n",
      " #   Column     Non-Null Count  Dtype \n",
      "---  ------     --------------  ----- \n",
      " 0   store_nbr  54 non-null     int64 \n",
      " 1   city       54 non-null     object\n",
      " 2   state      54 non-null     object\n",
      " 3   type       54 non-null     object\n",
      " 4   cluster    54 non-null     int64 \n",
      "dtypes: int64(2), object(3)\n",
      "memory usage: 2.2+ KB\n"
     ]
    }
   ],
   "source": [
    "stores_info_df.info()"
   ]
  },
  {
   "cell_type": "code",
   "execution_count": 278,
   "id": "6a632c51",
   "metadata": {},
   "outputs": [
    {
     "data": {
      "text/html": [
       "<div>\n",
       "<style scoped>\n",
       "    .dataframe tbody tr th:only-of-type {\n",
       "        vertical-align: middle;\n",
       "    }\n",
       "\n",
       "    .dataframe tbody tr th {\n",
       "        vertical-align: top;\n",
       "    }\n",
       "\n",
       "    .dataframe thead th {\n",
       "        text-align: right;\n",
       "    }\n",
       "</style>\n",
       "<table border=\"1\" class=\"dataframe\">\n",
       "  <thead>\n",
       "    <tr style=\"text-align: right;\">\n",
       "      <th></th>\n",
       "      <th>store_nbr</th>\n",
       "      <th>city</th>\n",
       "      <th>state</th>\n",
       "      <th>type</th>\n",
       "      <th>cluster</th>\n",
       "    </tr>\n",
       "  </thead>\n",
       "  <tbody>\n",
       "    <tr>\n",
       "      <th>size</th>\n",
       "      <td>54</td>\n",
       "      <td>54</td>\n",
       "      <td>54</td>\n",
       "      <td>54</td>\n",
       "      <td>54</td>\n",
       "    </tr>\n",
       "    <tr>\n",
       "      <th>count</th>\n",
       "      <td>54</td>\n",
       "      <td>54</td>\n",
       "      <td>54</td>\n",
       "      <td>54</td>\n",
       "      <td>54</td>\n",
       "    </tr>\n",
       "    <tr>\n",
       "      <th>nunique</th>\n",
       "      <td>54</td>\n",
       "      <td>22</td>\n",
       "      <td>16</td>\n",
       "      <td>5</td>\n",
       "      <td>17</td>\n",
       "    </tr>\n",
       "  </tbody>\n",
       "</table>\n",
       "</div>"
      ],
      "text/plain": [
       "         store_nbr  city  state  type  cluster\n",
       "size            54    54     54    54       54\n",
       "count           54    54     54    54       54\n",
       "nunique         54    22     16     5       17"
      ]
     },
     "execution_count": 278,
     "metadata": {},
     "output_type": "execute_result"
    }
   ],
   "source": [
    "stores_info_df.agg(['size', 'count', 'nunique'])"
   ]
  },
  {
   "cell_type": "markdown",
   "id": "da743542",
   "metadata": {},
   "source": [
    "### Check if there are any invalid values for columns with dtype String"
   ]
  },
  {
   "cell_type": "code",
   "execution_count": 190,
   "id": "c121834a",
   "metadata": {},
   "outputs": [
    {
     "name": "stdout",
     "output_type": "stream",
     "text": [
      "Column Name:  city\n",
      "['Quito' 'Santo Domingo' 'Cayambe' 'Latacunga' 'Riobamba' 'Ibarra'\n",
      " 'Guaranda' 'Puyo' 'Ambato' 'Guayaquil' 'Salinas' 'Daule' 'Babahoyo'\n",
      " 'Quevedo' 'Playas' 'Libertad' 'Cuenca' 'Loja' 'Machala' 'Esmeraldas'\n",
      " 'Manta' 'El Carmen']\n",
      "Column Name:  state\n",
      "['Pichincha' 'Santo Domingo de los Tsachilas' 'Cotopaxi' 'Chimborazo'\n",
      " 'Imbabura' 'Bolivar' 'Pastaza' 'Tungurahua' 'Guayas' 'Santa Elena'\n",
      " 'Los Rios' 'Azuay' 'Loja' 'El Oro' 'Esmeraldas' 'Manabi']\n",
      "Column Name:  type\n",
      "['D' 'B' 'C' 'E' 'A']\n"
     ]
    }
   ],
   "source": [
    "for col in list(stores_info_df.dtypes[stores_info_df.dtypes == object].index):\n",
    "        print('Column Name: ', col)\n",
    "        print(stores_info_df[col].unique())"
   ]
  },
  {
   "cell_type": "code",
   "execution_count": 279,
   "id": "5ccd1bc7",
   "metadata": {},
   "outputs": [
    {
     "data": {
      "text/html": [
       "<div>\n",
       "<style scoped>\n",
       "    .dataframe tbody tr th:only-of-type {\n",
       "        vertical-align: middle;\n",
       "    }\n",
       "\n",
       "    .dataframe tbody tr th {\n",
       "        vertical-align: top;\n",
       "    }\n",
       "\n",
       "    .dataframe thead th {\n",
       "        text-align: right;\n",
       "    }\n",
       "</style>\n",
       "<table border=\"1\" class=\"dataframe\">\n",
       "  <thead>\n",
       "    <tr style=\"text-align: right;\">\n",
       "      <th></th>\n",
       "      <th>store_nbr</th>\n",
       "      <th>store_location_city</th>\n",
       "      <th>store_location_state</th>\n",
       "      <th>store_type</th>\n",
       "      <th>store_cluster</th>\n",
       "    </tr>\n",
       "  </thead>\n",
       "  <tbody>\n",
       "    <tr>\n",
       "      <th>0</th>\n",
       "      <td>1</td>\n",
       "      <td>Quito</td>\n",
       "      <td>Pichincha</td>\n",
       "      <td>D</td>\n",
       "      <td>13</td>\n",
       "    </tr>\n",
       "    <tr>\n",
       "      <th>1</th>\n",
       "      <td>2</td>\n",
       "      <td>Quito</td>\n",
       "      <td>Pichincha</td>\n",
       "      <td>D</td>\n",
       "      <td>13</td>\n",
       "    </tr>\n",
       "    <tr>\n",
       "      <th>2</th>\n",
       "      <td>3</td>\n",
       "      <td>Quito</td>\n",
       "      <td>Pichincha</td>\n",
       "      <td>D</td>\n",
       "      <td>8</td>\n",
       "    </tr>\n",
       "    <tr>\n",
       "      <th>3</th>\n",
       "      <td>4</td>\n",
       "      <td>Quito</td>\n",
       "      <td>Pichincha</td>\n",
       "      <td>D</td>\n",
       "      <td>9</td>\n",
       "    </tr>\n",
       "    <tr>\n",
       "      <th>4</th>\n",
       "      <td>5</td>\n",
       "      <td>Santo Domingo</td>\n",
       "      <td>Santo Domingo de los Tsachilas</td>\n",
       "      <td>D</td>\n",
       "      <td>4</td>\n",
       "    </tr>\n",
       "  </tbody>\n",
       "</table>\n",
       "</div>"
      ],
      "text/plain": [
       "   store_nbr store_location_city            store_location_state store_type  \\\n",
       "0          1               Quito                       Pichincha          D   \n",
       "1          2               Quito                       Pichincha          D   \n",
       "2          3               Quito                       Pichincha          D   \n",
       "3          4               Quito                       Pichincha          D   \n",
       "4          5       Santo Domingo  Santo Domingo de los Tsachilas          D   \n",
       "\n",
       "   store_cluster  \n",
       "0             13  \n",
       "1             13  \n",
       "2              8  \n",
       "3              9  \n",
       "4              4  "
      ]
     },
     "execution_count": 279,
     "metadata": {},
     "output_type": "execute_result"
    }
   ],
   "source": [
    "stores_info_df.rename(columns = {'city': 'store_location_city', \n",
    "                                 'state': 'store_location_state', \n",
    "                                 'type': 'store_type',\n",
    "                                 'cluster': 'store_cluster'}, inplace = True)\n",
    "stores_info_df.head()"
   ]
  },
  {
   "cell_type": "markdown",
   "id": "2a5e70c9",
   "metadata": {},
   "source": [
    "# EDA on the transactions dataset"
   ]
  },
  {
   "cell_type": "code",
   "execution_count": 280,
   "id": "3ff5ae26",
   "metadata": {},
   "outputs": [
    {
     "data": {
      "text/plain": [
       "(83488, 3)"
      ]
     },
     "execution_count": 280,
     "metadata": {},
     "output_type": "execute_result"
    }
   ],
   "source": [
    "transactions_by_stores_df.shape"
   ]
  },
  {
   "cell_type": "code",
   "execution_count": 281,
   "id": "ecfb79b4",
   "metadata": {},
   "outputs": [
    {
     "data": {
      "text/html": [
       "<div>\n",
       "<style scoped>\n",
       "    .dataframe tbody tr th:only-of-type {\n",
       "        vertical-align: middle;\n",
       "    }\n",
       "\n",
       "    .dataframe tbody tr th {\n",
       "        vertical-align: top;\n",
       "    }\n",
       "\n",
       "    .dataframe thead th {\n",
       "        text-align: right;\n",
       "    }\n",
       "</style>\n",
       "<table border=\"1\" class=\"dataframe\">\n",
       "  <thead>\n",
       "    <tr style=\"text-align: right;\">\n",
       "      <th></th>\n",
       "      <th>date</th>\n",
       "      <th>store_nbr</th>\n",
       "      <th>transactions</th>\n",
       "    </tr>\n",
       "  </thead>\n",
       "  <tbody>\n",
       "    <tr>\n",
       "      <th>0</th>\n",
       "      <td>2013-01-01</td>\n",
       "      <td>25</td>\n",
       "      <td>770</td>\n",
       "    </tr>\n",
       "    <tr>\n",
       "      <th>1</th>\n",
       "      <td>2013-01-02</td>\n",
       "      <td>1</td>\n",
       "      <td>2111</td>\n",
       "    </tr>\n",
       "    <tr>\n",
       "      <th>2</th>\n",
       "      <td>2013-01-02</td>\n",
       "      <td>2</td>\n",
       "      <td>2358</td>\n",
       "    </tr>\n",
       "    <tr>\n",
       "      <th>3</th>\n",
       "      <td>2013-01-02</td>\n",
       "      <td>3</td>\n",
       "      <td>3487</td>\n",
       "    </tr>\n",
       "    <tr>\n",
       "      <th>4</th>\n",
       "      <td>2013-01-02</td>\n",
       "      <td>4</td>\n",
       "      <td>1922</td>\n",
       "    </tr>\n",
       "  </tbody>\n",
       "</table>\n",
       "</div>"
      ],
      "text/plain": [
       "         date  store_nbr  transactions\n",
       "0  2013-01-01         25           770\n",
       "1  2013-01-02          1          2111\n",
       "2  2013-01-02          2          2358\n",
       "3  2013-01-02          3          3487\n",
       "4  2013-01-02          4          1922"
      ]
     },
     "execution_count": 281,
     "metadata": {},
     "output_type": "execute_result"
    }
   ],
   "source": [
    "transactions_by_stores_df.head()"
   ]
  },
  {
   "cell_type": "code",
   "execution_count": 282,
   "id": "b30d0374",
   "metadata": {},
   "outputs": [
    {
     "name": "stdout",
     "output_type": "stream",
     "text": [
      "<class 'pandas.core.frame.DataFrame'>\n",
      "RangeIndex: 83488 entries, 0 to 83487\n",
      "Data columns (total 3 columns):\n",
      " #   Column        Non-Null Count  Dtype \n",
      "---  ------        --------------  ----- \n",
      " 0   date          83488 non-null  object\n",
      " 1   store_nbr     83488 non-null  int64 \n",
      " 2   transactions  83488 non-null  int64 \n",
      "dtypes: int64(2), object(1)\n",
      "memory usage: 1.9+ MB\n"
     ]
    }
   ],
   "source": [
    "transactions_by_stores_df.info()"
   ]
  },
  {
   "cell_type": "code",
   "execution_count": 283,
   "id": "5f997569",
   "metadata": {},
   "outputs": [
    {
     "data": {
      "text/html": [
       "<div>\n",
       "<style scoped>\n",
       "    .dataframe tbody tr th:only-of-type {\n",
       "        vertical-align: middle;\n",
       "    }\n",
       "\n",
       "    .dataframe tbody tr th {\n",
       "        vertical-align: top;\n",
       "    }\n",
       "\n",
       "    .dataframe thead th {\n",
       "        text-align: right;\n",
       "    }\n",
       "</style>\n",
       "<table border=\"1\" class=\"dataframe\">\n",
       "  <thead>\n",
       "    <tr style=\"text-align: right;\">\n",
       "      <th></th>\n",
       "      <th>date</th>\n",
       "      <th>store_nbr</th>\n",
       "      <th>transactions</th>\n",
       "    </tr>\n",
       "  </thead>\n",
       "  <tbody>\n",
       "    <tr>\n",
       "      <th>size</th>\n",
       "      <td>83488</td>\n",
       "      <td>83488</td>\n",
       "      <td>83488</td>\n",
       "    </tr>\n",
       "    <tr>\n",
       "      <th>count</th>\n",
       "      <td>83488</td>\n",
       "      <td>83488</td>\n",
       "      <td>83488</td>\n",
       "    </tr>\n",
       "    <tr>\n",
       "      <th>nunique</th>\n",
       "      <td>1682</td>\n",
       "      <td>54</td>\n",
       "      <td>4993</td>\n",
       "    </tr>\n",
       "  </tbody>\n",
       "</table>\n",
       "</div>"
      ],
      "text/plain": [
       "          date  store_nbr  transactions\n",
       "size     83488      83488         83488\n",
       "count    83488      83488         83488\n",
       "nunique   1682         54          4993"
      ]
     },
     "execution_count": 283,
     "metadata": {},
     "output_type": "execute_result"
    }
   ],
   "source": [
    "transactions_by_stores_df.agg(['size', 'count', 'nunique'])"
   ]
  },
  {
   "cell_type": "markdown",
   "id": "743a254b",
   "metadata": {},
   "source": [
    "# EDA on the holidays dataset"
   ]
  },
  {
   "cell_type": "code",
   "execution_count": 284,
   "id": "03a179e2",
   "metadata": {},
   "outputs": [
    {
     "data": {
      "text/plain": [
       "(350, 6)"
      ]
     },
     "execution_count": 284,
     "metadata": {},
     "output_type": "execute_result"
    }
   ],
   "source": [
    "holidays_df.shape"
   ]
  },
  {
   "cell_type": "code",
   "execution_count": 285,
   "id": "99c95902",
   "metadata": {},
   "outputs": [
    {
     "data": {
      "text/html": [
       "<div>\n",
       "<style scoped>\n",
       "    .dataframe tbody tr th:only-of-type {\n",
       "        vertical-align: middle;\n",
       "    }\n",
       "\n",
       "    .dataframe tbody tr th {\n",
       "        vertical-align: top;\n",
       "    }\n",
       "\n",
       "    .dataframe thead th {\n",
       "        text-align: right;\n",
       "    }\n",
       "</style>\n",
       "<table border=\"1\" class=\"dataframe\">\n",
       "  <thead>\n",
       "    <tr style=\"text-align: right;\">\n",
       "      <th></th>\n",
       "      <th>date</th>\n",
       "      <th>type</th>\n",
       "      <th>locale</th>\n",
       "      <th>locale_name</th>\n",
       "      <th>description</th>\n",
       "      <th>transferred</th>\n",
       "    </tr>\n",
       "  </thead>\n",
       "  <tbody>\n",
       "    <tr>\n",
       "      <th>0</th>\n",
       "      <td>2012-03-02</td>\n",
       "      <td>Holiday</td>\n",
       "      <td>Local</td>\n",
       "      <td>Manta</td>\n",
       "      <td>Fundacion de Manta</td>\n",
       "      <td>False</td>\n",
       "    </tr>\n",
       "    <tr>\n",
       "      <th>1</th>\n",
       "      <td>2012-04-01</td>\n",
       "      <td>Holiday</td>\n",
       "      <td>Regional</td>\n",
       "      <td>Cotopaxi</td>\n",
       "      <td>Provincializacion de Cotopaxi</td>\n",
       "      <td>False</td>\n",
       "    </tr>\n",
       "    <tr>\n",
       "      <th>2</th>\n",
       "      <td>2012-04-12</td>\n",
       "      <td>Holiday</td>\n",
       "      <td>Local</td>\n",
       "      <td>Cuenca</td>\n",
       "      <td>Fundacion de Cuenca</td>\n",
       "      <td>False</td>\n",
       "    </tr>\n",
       "    <tr>\n",
       "      <th>3</th>\n",
       "      <td>2012-04-14</td>\n",
       "      <td>Holiday</td>\n",
       "      <td>Local</td>\n",
       "      <td>Libertad</td>\n",
       "      <td>Cantonizacion de Libertad</td>\n",
       "      <td>False</td>\n",
       "    </tr>\n",
       "    <tr>\n",
       "      <th>4</th>\n",
       "      <td>2012-04-21</td>\n",
       "      <td>Holiday</td>\n",
       "      <td>Local</td>\n",
       "      <td>Riobamba</td>\n",
       "      <td>Cantonizacion de Riobamba</td>\n",
       "      <td>False</td>\n",
       "    </tr>\n",
       "  </tbody>\n",
       "</table>\n",
       "</div>"
      ],
      "text/plain": [
       "         date     type    locale locale_name                    description  \\\n",
       "0  2012-03-02  Holiday     Local       Manta             Fundacion de Manta   \n",
       "1  2012-04-01  Holiday  Regional    Cotopaxi  Provincializacion de Cotopaxi   \n",
       "2  2012-04-12  Holiday     Local      Cuenca            Fundacion de Cuenca   \n",
       "3  2012-04-14  Holiday     Local    Libertad      Cantonizacion de Libertad   \n",
       "4  2012-04-21  Holiday     Local    Riobamba      Cantonizacion de Riobamba   \n",
       "\n",
       "   transferred  \n",
       "0        False  \n",
       "1        False  \n",
       "2        False  \n",
       "3        False  \n",
       "4        False  "
      ]
     },
     "execution_count": 285,
     "metadata": {},
     "output_type": "execute_result"
    }
   ],
   "source": [
    "holidays_df.head()"
   ]
  },
  {
   "cell_type": "code",
   "execution_count": 286,
   "id": "7724c639",
   "metadata": {},
   "outputs": [
    {
     "name": "stdout",
     "output_type": "stream",
     "text": [
      "<class 'pandas.core.frame.DataFrame'>\n",
      "RangeIndex: 350 entries, 0 to 349\n",
      "Data columns (total 6 columns):\n",
      " #   Column       Non-Null Count  Dtype \n",
      "---  ------       --------------  ----- \n",
      " 0   date         350 non-null    object\n",
      " 1   type         350 non-null    object\n",
      " 2   locale       350 non-null    object\n",
      " 3   locale_name  350 non-null    object\n",
      " 4   description  350 non-null    object\n",
      " 5   transferred  350 non-null    bool  \n",
      "dtypes: bool(1), object(5)\n",
      "memory usage: 14.1+ KB\n"
     ]
    }
   ],
   "source": [
    "holidays_df.info()"
   ]
  },
  {
   "cell_type": "code",
   "execution_count": 287,
   "id": "5d4cef89",
   "metadata": {},
   "outputs": [
    {
     "data": {
      "text/html": [
       "<div>\n",
       "<style scoped>\n",
       "    .dataframe tbody tr th:only-of-type {\n",
       "        vertical-align: middle;\n",
       "    }\n",
       "\n",
       "    .dataframe tbody tr th {\n",
       "        vertical-align: top;\n",
       "    }\n",
       "\n",
       "    .dataframe thead th {\n",
       "        text-align: right;\n",
       "    }\n",
       "</style>\n",
       "<table border=\"1\" class=\"dataframe\">\n",
       "  <thead>\n",
       "    <tr style=\"text-align: right;\">\n",
       "      <th></th>\n",
       "      <th>date</th>\n",
       "      <th>type</th>\n",
       "      <th>locale</th>\n",
       "      <th>locale_name</th>\n",
       "      <th>description</th>\n",
       "      <th>transferred</th>\n",
       "    </tr>\n",
       "  </thead>\n",
       "  <tbody>\n",
       "    <tr>\n",
       "      <th>size</th>\n",
       "      <td>350</td>\n",
       "      <td>350</td>\n",
       "      <td>350</td>\n",
       "      <td>350</td>\n",
       "      <td>350</td>\n",
       "      <td>350</td>\n",
       "    </tr>\n",
       "    <tr>\n",
       "      <th>count</th>\n",
       "      <td>350</td>\n",
       "      <td>350</td>\n",
       "      <td>350</td>\n",
       "      <td>350</td>\n",
       "      <td>350</td>\n",
       "      <td>350</td>\n",
       "    </tr>\n",
       "    <tr>\n",
       "      <th>nunique</th>\n",
       "      <td>312</td>\n",
       "      <td>6</td>\n",
       "      <td>3</td>\n",
       "      <td>24</td>\n",
       "      <td>103</td>\n",
       "      <td>2</td>\n",
       "    </tr>\n",
       "  </tbody>\n",
       "</table>\n",
       "</div>"
      ],
      "text/plain": [
       "         date  type  locale  locale_name  description  transferred\n",
       "size      350   350     350          350          350          350\n",
       "count     350   350     350          350          350          350\n",
       "nunique   312     6       3           24          103            2"
      ]
     },
     "execution_count": 287,
     "metadata": {},
     "output_type": "execute_result"
    }
   ],
   "source": [
    "holidays_df.agg(['size', 'count', 'nunique'])"
   ]
  },
  {
   "cell_type": "code",
   "execution_count": 288,
   "id": "12052ab1",
   "metadata": {},
   "outputs": [
    {
     "data": {
      "text/plain": [
       "Holiday       221\n",
       "Event          56\n",
       "Additional     51\n",
       "Transfer       12\n",
       "Bridge          5\n",
       "Work Day        5\n",
       "Name: type, dtype: int64"
      ]
     },
     "execution_count": 288,
     "metadata": {},
     "output_type": "execute_result"
    }
   ],
   "source": [
    "holidays_df['type'].value_counts()"
   ]
  },
  {
   "cell_type": "markdown",
   "id": "8cbd1796",
   "metadata": {},
   "source": [
    "# Check for the transferred holidays as per the dataset description"
   ]
  },
  {
   "cell_type": "code",
   "execution_count": 289,
   "id": "5d2a26fd",
   "metadata": {},
   "outputs": [
    {
     "data": {
      "text/html": [
       "<div>\n",
       "<style scoped>\n",
       "    .dataframe tbody tr th:only-of-type {\n",
       "        vertical-align: middle;\n",
       "    }\n",
       "\n",
       "    .dataframe tbody tr th {\n",
       "        vertical-align: top;\n",
       "    }\n",
       "\n",
       "    .dataframe thead th {\n",
       "        text-align: right;\n",
       "    }\n",
       "</style>\n",
       "<table border=\"1\" class=\"dataframe\">\n",
       "  <thead>\n",
       "    <tr style=\"text-align: right;\">\n",
       "      <th></th>\n",
       "      <th>date</th>\n",
       "      <th>type</th>\n",
       "      <th>locale</th>\n",
       "      <th>locale_name</th>\n",
       "      <th>description</th>\n",
       "      <th>transferred</th>\n",
       "    </tr>\n",
       "  </thead>\n",
       "  <tbody>\n",
       "    <tr>\n",
       "      <th>20</th>\n",
       "      <td>2012-10-12</td>\n",
       "      <td>Transfer</td>\n",
       "      <td>National</td>\n",
       "      <td>Ecuador</td>\n",
       "      <td>Traslado Independencia de Guayaquil</td>\n",
       "      <td>False</td>\n",
       "    </tr>\n",
       "    <tr>\n",
       "      <th>73</th>\n",
       "      <td>2013-10-11</td>\n",
       "      <td>Transfer</td>\n",
       "      <td>National</td>\n",
       "      <td>Ecuador</td>\n",
       "      <td>Traslado Independencia de Guayaquil</td>\n",
       "      <td>False</td>\n",
       "    </tr>\n",
       "    <tr>\n",
       "      <th>136</th>\n",
       "      <td>2014-10-10</td>\n",
       "      <td>Transfer</td>\n",
       "      <td>National</td>\n",
       "      <td>Ecuador</td>\n",
       "      <td>Traslado Independencia de Guayaquil</td>\n",
       "      <td>False</td>\n",
       "    </tr>\n",
       "    <tr>\n",
       "      <th>256</th>\n",
       "      <td>2016-05-27</td>\n",
       "      <td>Transfer</td>\n",
       "      <td>National</td>\n",
       "      <td>Ecuador</td>\n",
       "      <td>Traslado Batalla de Pichincha</td>\n",
       "      <td>False</td>\n",
       "    </tr>\n",
       "    <tr>\n",
       "      <th>265</th>\n",
       "      <td>2016-07-24</td>\n",
       "      <td>Transfer</td>\n",
       "      <td>Local</td>\n",
       "      <td>Guayaquil</td>\n",
       "      <td>Traslado Fundacion de Guayaquil</td>\n",
       "      <td>False</td>\n",
       "    </tr>\n",
       "    <tr>\n",
       "      <th>269</th>\n",
       "      <td>2016-08-12</td>\n",
       "      <td>Transfer</td>\n",
       "      <td>National</td>\n",
       "      <td>Ecuador</td>\n",
       "      <td>Traslado Primer Grito de Independencia</td>\n",
       "      <td>False</td>\n",
       "    </tr>\n",
       "    <tr>\n",
       "      <th>298</th>\n",
       "      <td>2017-01-02</td>\n",
       "      <td>Transfer</td>\n",
       "      <td>National</td>\n",
       "      <td>Ecuador</td>\n",
       "      <td>Traslado Primer dia del ano</td>\n",
       "      <td>False</td>\n",
       "    </tr>\n",
       "    <tr>\n",
       "      <th>304</th>\n",
       "      <td>2017-04-13</td>\n",
       "      <td>Transfer</td>\n",
       "      <td>Local</td>\n",
       "      <td>Cuenca</td>\n",
       "      <td>Fundacion de Cuenca</td>\n",
       "      <td>False</td>\n",
       "    </tr>\n",
       "    <tr>\n",
       "      <th>313</th>\n",
       "      <td>2017-05-26</td>\n",
       "      <td>Transfer</td>\n",
       "      <td>National</td>\n",
       "      <td>Ecuador</td>\n",
       "      <td>Traslado Batalla de Pichincha</td>\n",
       "      <td>False</td>\n",
       "    </tr>\n",
       "    <tr>\n",
       "      <th>325</th>\n",
       "      <td>2017-08-11</td>\n",
       "      <td>Transfer</td>\n",
       "      <td>National</td>\n",
       "      <td>Ecuador</td>\n",
       "      <td>Traslado Primer Grito de Independencia</td>\n",
       "      <td>False</td>\n",
       "    </tr>\n",
       "    <tr>\n",
       "      <th>329</th>\n",
       "      <td>2017-09-29</td>\n",
       "      <td>Transfer</td>\n",
       "      <td>Local</td>\n",
       "      <td>Ibarra</td>\n",
       "      <td>Fundacion de Ibarra</td>\n",
       "      <td>False</td>\n",
       "    </tr>\n",
       "    <tr>\n",
       "      <th>342</th>\n",
       "      <td>2017-12-08</td>\n",
       "      <td>Transfer</td>\n",
       "      <td>Local</td>\n",
       "      <td>Quito</td>\n",
       "      <td>Traslado Fundacion de Quito</td>\n",
       "      <td>False</td>\n",
       "    </tr>\n",
       "  </tbody>\n",
       "</table>\n",
       "</div>"
      ],
      "text/plain": [
       "           date      type    locale locale_name  \\\n",
       "20   2012-10-12  Transfer  National     Ecuador   \n",
       "73   2013-10-11  Transfer  National     Ecuador   \n",
       "136  2014-10-10  Transfer  National     Ecuador   \n",
       "256  2016-05-27  Transfer  National     Ecuador   \n",
       "265  2016-07-24  Transfer     Local   Guayaquil   \n",
       "269  2016-08-12  Transfer  National     Ecuador   \n",
       "298  2017-01-02  Transfer  National     Ecuador   \n",
       "304  2017-04-13  Transfer     Local      Cuenca   \n",
       "313  2017-05-26  Transfer  National     Ecuador   \n",
       "325  2017-08-11  Transfer  National     Ecuador   \n",
       "329  2017-09-29  Transfer     Local      Ibarra   \n",
       "342  2017-12-08  Transfer     Local       Quito   \n",
       "\n",
       "                                description  transferred  \n",
       "20      Traslado Independencia de Guayaquil        False  \n",
       "73      Traslado Independencia de Guayaquil        False  \n",
       "136     Traslado Independencia de Guayaquil        False  \n",
       "256           Traslado Batalla de Pichincha        False  \n",
       "265         Traslado Fundacion de Guayaquil        False  \n",
       "269  Traslado Primer Grito de Independencia        False  \n",
       "298             Traslado Primer dia del ano        False  \n",
       "304                     Fundacion de Cuenca        False  \n",
       "313           Traslado Batalla de Pichincha        False  \n",
       "325  Traslado Primer Grito de Independencia        False  \n",
       "329                     Fundacion de Ibarra        False  \n",
       "342             Traslado Fundacion de Quito        False  "
      ]
     },
     "execution_count": 289,
     "metadata": {},
     "output_type": "execute_result"
    }
   ],
   "source": [
    "holidays_df[holidays_df['type'] == 'Transfer']"
   ]
  },
  {
   "cell_type": "code",
   "execution_count": 290,
   "id": "8568ef20",
   "metadata": {},
   "outputs": [
    {
     "data": {
      "text/html": [
       "<div>\n",
       "<style scoped>\n",
       "    .dataframe tbody tr th:only-of-type {\n",
       "        vertical-align: middle;\n",
       "    }\n",
       "\n",
       "    .dataframe tbody tr th {\n",
       "        vertical-align: top;\n",
       "    }\n",
       "\n",
       "    .dataframe thead th {\n",
       "        text-align: right;\n",
       "    }\n",
       "</style>\n",
       "<table border=\"1\" class=\"dataframe\">\n",
       "  <thead>\n",
       "    <tr style=\"text-align: right;\">\n",
       "      <th></th>\n",
       "      <th>date</th>\n",
       "      <th>type</th>\n",
       "      <th>locale</th>\n",
       "      <th>locale_name</th>\n",
       "      <th>description</th>\n",
       "      <th>transferred</th>\n",
       "    </tr>\n",
       "  </thead>\n",
       "  <tbody>\n",
       "    <tr>\n",
       "      <th>19</th>\n",
       "      <td>2012-10-09</td>\n",
       "      <td>Holiday</td>\n",
       "      <td>National</td>\n",
       "      <td>Ecuador</td>\n",
       "      <td>Independencia de Guayaquil</td>\n",
       "      <td>True</td>\n",
       "    </tr>\n",
       "    <tr>\n",
       "      <th>72</th>\n",
       "      <td>2013-10-09</td>\n",
       "      <td>Holiday</td>\n",
       "      <td>National</td>\n",
       "      <td>Ecuador</td>\n",
       "      <td>Independencia de Guayaquil</td>\n",
       "      <td>True</td>\n",
       "    </tr>\n",
       "    <tr>\n",
       "      <th>135</th>\n",
       "      <td>2014-10-09</td>\n",
       "      <td>Holiday</td>\n",
       "      <td>National</td>\n",
       "      <td>Ecuador</td>\n",
       "      <td>Independencia de Guayaquil</td>\n",
       "      <td>True</td>\n",
       "    </tr>\n",
       "    <tr>\n",
       "      <th>255</th>\n",
       "      <td>2016-05-24</td>\n",
       "      <td>Holiday</td>\n",
       "      <td>National</td>\n",
       "      <td>Ecuador</td>\n",
       "      <td>Batalla de Pichincha</td>\n",
       "      <td>True</td>\n",
       "    </tr>\n",
       "    <tr>\n",
       "      <th>266</th>\n",
       "      <td>2016-07-25</td>\n",
       "      <td>Holiday</td>\n",
       "      <td>Local</td>\n",
       "      <td>Guayaquil</td>\n",
       "      <td>Fundacion de Guayaquil</td>\n",
       "      <td>True</td>\n",
       "    </tr>\n",
       "    <tr>\n",
       "      <th>268</th>\n",
       "      <td>2016-08-10</td>\n",
       "      <td>Holiday</td>\n",
       "      <td>National</td>\n",
       "      <td>Ecuador</td>\n",
       "      <td>Primer Grito de Independencia</td>\n",
       "      <td>True</td>\n",
       "    </tr>\n",
       "    <tr>\n",
       "      <th>297</th>\n",
       "      <td>2017-01-01</td>\n",
       "      <td>Holiday</td>\n",
       "      <td>National</td>\n",
       "      <td>Ecuador</td>\n",
       "      <td>Primer dia del ano</td>\n",
       "      <td>True</td>\n",
       "    </tr>\n",
       "    <tr>\n",
       "      <th>303</th>\n",
       "      <td>2017-04-12</td>\n",
       "      <td>Holiday</td>\n",
       "      <td>Local</td>\n",
       "      <td>Cuenca</td>\n",
       "      <td>Fundacion de Cuenca</td>\n",
       "      <td>True</td>\n",
       "    </tr>\n",
       "    <tr>\n",
       "      <th>312</th>\n",
       "      <td>2017-05-24</td>\n",
       "      <td>Holiday</td>\n",
       "      <td>National</td>\n",
       "      <td>Ecuador</td>\n",
       "      <td>Batalla de Pichincha</td>\n",
       "      <td>True</td>\n",
       "    </tr>\n",
       "    <tr>\n",
       "      <th>324</th>\n",
       "      <td>2017-08-10</td>\n",
       "      <td>Holiday</td>\n",
       "      <td>National</td>\n",
       "      <td>Ecuador</td>\n",
       "      <td>Primer Grito de Independencia</td>\n",
       "      <td>True</td>\n",
       "    </tr>\n",
       "    <tr>\n",
       "      <th>328</th>\n",
       "      <td>2017-09-28</td>\n",
       "      <td>Holiday</td>\n",
       "      <td>Local</td>\n",
       "      <td>Ibarra</td>\n",
       "      <td>Fundacion de Ibarra</td>\n",
       "      <td>True</td>\n",
       "    </tr>\n",
       "    <tr>\n",
       "      <th>340</th>\n",
       "      <td>2017-12-06</td>\n",
       "      <td>Holiday</td>\n",
       "      <td>Local</td>\n",
       "      <td>Quito</td>\n",
       "      <td>Fundacion de Quito</td>\n",
       "      <td>True</td>\n",
       "    </tr>\n",
       "  </tbody>\n",
       "</table>\n",
       "</div>"
      ],
      "text/plain": [
       "           date     type    locale locale_name                    description  \\\n",
       "19   2012-10-09  Holiday  National     Ecuador     Independencia de Guayaquil   \n",
       "72   2013-10-09  Holiday  National     Ecuador     Independencia de Guayaquil   \n",
       "135  2014-10-09  Holiday  National     Ecuador     Independencia de Guayaquil   \n",
       "255  2016-05-24  Holiday  National     Ecuador           Batalla de Pichincha   \n",
       "266  2016-07-25  Holiday     Local   Guayaquil         Fundacion de Guayaquil   \n",
       "268  2016-08-10  Holiday  National     Ecuador  Primer Grito de Independencia   \n",
       "297  2017-01-01  Holiday  National     Ecuador             Primer dia del ano   \n",
       "303  2017-04-12  Holiday     Local      Cuenca            Fundacion de Cuenca   \n",
       "312  2017-05-24  Holiday  National     Ecuador           Batalla de Pichincha   \n",
       "324  2017-08-10  Holiday  National     Ecuador  Primer Grito de Independencia   \n",
       "328  2017-09-28  Holiday     Local      Ibarra            Fundacion de Ibarra   \n",
       "340  2017-12-06  Holiday     Local       Quito             Fundacion de Quito   \n",
       "\n",
       "     transferred  \n",
       "19          True  \n",
       "72          True  \n",
       "135         True  \n",
       "255         True  \n",
       "266         True  \n",
       "268         True  \n",
       "297         True  \n",
       "303         True  \n",
       "312         True  \n",
       "324         True  \n",
       "328         True  \n",
       "340         True  "
      ]
     },
     "execution_count": 290,
     "metadata": {},
     "output_type": "execute_result"
    }
   ],
   "source": [
    "holidays_df[holidays_df['transferred'] == True]"
   ]
  },
  {
   "cell_type": "markdown",
   "id": "01b99c33",
   "metadata": {},
   "source": [
    "### According to the dataset description, transferred holidays were observed on a different date so they can be treated as a normal date and filtered out from the holidays "
   ]
  },
  {
   "cell_type": "markdown",
   "id": "1809b671",
   "metadata": {},
   "source": [
    "# Filter out the transferred holidays"
   ]
  },
  {
   "cell_type": "code",
   "execution_count": 291,
   "id": "d645e05e",
   "metadata": {},
   "outputs": [],
   "source": [
    "holidays_df = holidays_df[holidays_df['transferred'] == False]"
   ]
  },
  {
   "cell_type": "code",
   "execution_count": 292,
   "id": "182e4d7d",
   "metadata": {},
   "outputs": [
    {
     "data": {
      "text/plain": [
       "(338, 6)"
      ]
     },
     "execution_count": 292,
     "metadata": {},
     "output_type": "execute_result"
    }
   ],
   "source": [
    "holidays_df.shape"
   ]
  },
  {
   "cell_type": "markdown",
   "id": "2c07b196",
   "metadata": {},
   "source": [
    "# Check the relationship between Bridge and Work Day"
   ]
  },
  {
   "cell_type": "code",
   "execution_count": 293,
   "id": "c1dcff44",
   "metadata": {},
   "outputs": [
    {
     "data": {
      "text/html": [
       "<div>\n",
       "<style scoped>\n",
       "    .dataframe tbody tr th:only-of-type {\n",
       "        vertical-align: middle;\n",
       "    }\n",
       "\n",
       "    .dataframe tbody tr th {\n",
       "        vertical-align: top;\n",
       "    }\n",
       "\n",
       "    .dataframe thead th {\n",
       "        text-align: right;\n",
       "    }\n",
       "</style>\n",
       "<table border=\"1\" class=\"dataframe\">\n",
       "  <thead>\n",
       "    <tr style=\"text-align: right;\">\n",
       "      <th></th>\n",
       "      <th>date</th>\n",
       "      <th>type</th>\n",
       "      <th>locale</th>\n",
       "      <th>locale_name</th>\n",
       "      <th>description</th>\n",
       "      <th>transferred</th>\n",
       "    </tr>\n",
       "  </thead>\n",
       "  <tbody>\n",
       "    <tr>\n",
       "      <th>42</th>\n",
       "      <td>2013-01-05</td>\n",
       "      <td>Work Day</td>\n",
       "      <td>National</td>\n",
       "      <td>Ecuador</td>\n",
       "      <td>Recupero puente Navidad</td>\n",
       "      <td>False</td>\n",
       "    </tr>\n",
       "    <tr>\n",
       "      <th>43</th>\n",
       "      <td>2013-01-12</td>\n",
       "      <td>Work Day</td>\n",
       "      <td>National</td>\n",
       "      <td>Ecuador</td>\n",
       "      <td>Recupero puente primer dia del ano</td>\n",
       "      <td>False</td>\n",
       "    </tr>\n",
       "    <tr>\n",
       "      <th>149</th>\n",
       "      <td>2014-12-20</td>\n",
       "      <td>Work Day</td>\n",
       "      <td>National</td>\n",
       "      <td>Ecuador</td>\n",
       "      <td>Recupero Puente Navidad</td>\n",
       "      <td>False</td>\n",
       "    </tr>\n",
       "    <tr>\n",
       "      <th>161</th>\n",
       "      <td>2015-01-10</td>\n",
       "      <td>Work Day</td>\n",
       "      <td>National</td>\n",
       "      <td>Ecuador</td>\n",
       "      <td>Recupero Puente Primer dia del ano</td>\n",
       "      <td>False</td>\n",
       "    </tr>\n",
       "    <tr>\n",
       "      <th>283</th>\n",
       "      <td>2016-11-12</td>\n",
       "      <td>Work Day</td>\n",
       "      <td>National</td>\n",
       "      <td>Ecuador</td>\n",
       "      <td>Recupero Puente Dia de Difuntos</td>\n",
       "      <td>False</td>\n",
       "    </tr>\n",
       "  </tbody>\n",
       "</table>\n",
       "</div>"
      ],
      "text/plain": [
       "           date      type    locale locale_name  \\\n",
       "42   2013-01-05  Work Day  National     Ecuador   \n",
       "43   2013-01-12  Work Day  National     Ecuador   \n",
       "149  2014-12-20  Work Day  National     Ecuador   \n",
       "161  2015-01-10  Work Day  National     Ecuador   \n",
       "283  2016-11-12  Work Day  National     Ecuador   \n",
       "\n",
       "                            description  transferred  \n",
       "42              Recupero puente Navidad        False  \n",
       "43   Recupero puente primer dia del ano        False  \n",
       "149             Recupero Puente Navidad        False  \n",
       "161  Recupero Puente Primer dia del ano        False  \n",
       "283     Recupero Puente Dia de Difuntos        False  "
      ]
     },
     "execution_count": 293,
     "metadata": {},
     "output_type": "execute_result"
    }
   ],
   "source": [
    "holidays_df[holidays_df['type'] == 'Work Day']"
   ]
  },
  {
   "cell_type": "code",
   "execution_count": 294,
   "id": "4f168455",
   "metadata": {},
   "outputs": [
    {
     "data": {
      "text/html": [
       "<div>\n",
       "<style scoped>\n",
       "    .dataframe tbody tr th:only-of-type {\n",
       "        vertical-align: middle;\n",
       "    }\n",
       "\n",
       "    .dataframe tbody tr th {\n",
       "        vertical-align: top;\n",
       "    }\n",
       "\n",
       "    .dataframe thead th {\n",
       "        text-align: right;\n",
       "    }\n",
       "</style>\n",
       "<table border=\"1\" class=\"dataframe\">\n",
       "  <thead>\n",
       "    <tr style=\"text-align: right;\">\n",
       "      <th></th>\n",
       "      <th>date</th>\n",
       "      <th>type</th>\n",
       "      <th>locale</th>\n",
       "      <th>locale_name</th>\n",
       "      <th>description</th>\n",
       "      <th>transferred</th>\n",
       "    </tr>\n",
       "  </thead>\n",
       "  <tbody>\n",
       "    <tr>\n",
       "      <th>35</th>\n",
       "      <td>2012-12-24</td>\n",
       "      <td>Bridge</td>\n",
       "      <td>National</td>\n",
       "      <td>Ecuador</td>\n",
       "      <td>Puente Navidad</td>\n",
       "      <td>False</td>\n",
       "    </tr>\n",
       "    <tr>\n",
       "      <th>39</th>\n",
       "      <td>2012-12-31</td>\n",
       "      <td>Bridge</td>\n",
       "      <td>National</td>\n",
       "      <td>Ecuador</td>\n",
       "      <td>Puente Primer dia del ano</td>\n",
       "      <td>False</td>\n",
       "    </tr>\n",
       "    <tr>\n",
       "      <th>156</th>\n",
       "      <td>2014-12-26</td>\n",
       "      <td>Bridge</td>\n",
       "      <td>National</td>\n",
       "      <td>Ecuador</td>\n",
       "      <td>Puente Navidad</td>\n",
       "      <td>False</td>\n",
       "    </tr>\n",
       "    <tr>\n",
       "      <th>160</th>\n",
       "      <td>2015-01-02</td>\n",
       "      <td>Bridge</td>\n",
       "      <td>National</td>\n",
       "      <td>Ecuador</td>\n",
       "      <td>Puente Primer dia del ano</td>\n",
       "      <td>False</td>\n",
       "    </tr>\n",
       "    <tr>\n",
       "      <th>277</th>\n",
       "      <td>2016-11-04</td>\n",
       "      <td>Bridge</td>\n",
       "      <td>National</td>\n",
       "      <td>Ecuador</td>\n",
       "      <td>Puente Dia de Difuntos</td>\n",
       "      <td>False</td>\n",
       "    </tr>\n",
       "  </tbody>\n",
       "</table>\n",
       "</div>"
      ],
      "text/plain": [
       "           date    type    locale locale_name                description  \\\n",
       "35   2012-12-24  Bridge  National     Ecuador             Puente Navidad   \n",
       "39   2012-12-31  Bridge  National     Ecuador  Puente Primer dia del ano   \n",
       "156  2014-12-26  Bridge  National     Ecuador             Puente Navidad   \n",
       "160  2015-01-02  Bridge  National     Ecuador  Puente Primer dia del ano   \n",
       "277  2016-11-04  Bridge  National     Ecuador     Puente Dia de Difuntos   \n",
       "\n",
       "     transferred  \n",
       "35         False  \n",
       "39         False  \n",
       "156        False  \n",
       "160        False  \n",
       "277        False  "
      ]
     },
     "execution_count": 294,
     "metadata": {},
     "output_type": "execute_result"
    }
   ],
   "source": [
    "holidays_df[holidays_df['type'] == 'Bridge']"
   ]
  },
  {
   "cell_type": "markdown",
   "id": "c4e601b2",
   "metadata": {},
   "source": [
    "# Work day were not observed as holiday to cover up for the extra holidays for the long weekend so they can be removed from the dataset"
   ]
  },
  {
   "cell_type": "code",
   "execution_count": 295,
   "id": "20976fcf",
   "metadata": {},
   "outputs": [],
   "source": [
    "holidays_df = holidays_df[holidays_df['type'] != 'Work Day']"
   ]
  },
  {
   "cell_type": "code",
   "execution_count": 296,
   "id": "b774f05d",
   "metadata": {},
   "outputs": [
    {
     "data": {
      "text/plain": [
       "(333, 6)"
      ]
     },
     "execution_count": 296,
     "metadata": {},
     "output_type": "execute_result"
    }
   ],
   "source": [
    "holidays_df.shape"
   ]
  },
  {
   "cell_type": "code",
   "execution_count": 314,
   "id": "15e63f8b",
   "metadata": {},
   "outputs": [],
   "source": [
    "holidays_df['is_holiday'] = True"
   ]
  },
  {
   "cell_type": "markdown",
   "id": "13e340a9",
   "metadata": {},
   "source": [
    "# Check for duplicates"
   ]
  },
  {
   "cell_type": "code",
   "execution_count": 360,
   "id": "d29e3af7",
   "metadata": {},
   "outputs": [
    {
     "data": {
      "text/plain": [
       "2014-06-25    4\n",
       "2016-06-25    3\n",
       "2015-06-25    3\n",
       "2017-06-25    3\n",
       "2012-06-25    3\n",
       "             ..\n",
       "2014-08-10    1\n",
       "2014-08-15    1\n",
       "2014-08-24    1\n",
       "2014-09-28    1\n",
       "2017-12-26    1\n",
       "Name: date, Length: 296, dtype: int64"
      ]
     },
     "execution_count": 360,
     "metadata": {},
     "output_type": "execute_result"
    }
   ],
   "source": [
    "holidays_df['date'].value_counts()"
   ]
  },
  {
   "cell_type": "code",
   "execution_count": 361,
   "id": "23d950b1",
   "metadata": {},
   "outputs": [
    {
     "data": {
      "text/html": [
       "<div>\n",
       "<style scoped>\n",
       "    .dataframe tbody tr th:only-of-type {\n",
       "        vertical-align: middle;\n",
       "    }\n",
       "\n",
       "    .dataframe tbody tr th {\n",
       "        vertical-align: top;\n",
       "    }\n",
       "\n",
       "    .dataframe thead th {\n",
       "        text-align: right;\n",
       "    }\n",
       "</style>\n",
       "<table border=\"1\" class=\"dataframe\">\n",
       "  <thead>\n",
       "    <tr style=\"text-align: right;\">\n",
       "      <th></th>\n",
       "      <th>date</th>\n",
       "      <th>type</th>\n",
       "      <th>locale</th>\n",
       "      <th>locale_name</th>\n",
       "      <th>description</th>\n",
       "      <th>transferred</th>\n",
       "      <th>is_holiday</th>\n",
       "    </tr>\n",
       "  </thead>\n",
       "  <tbody>\n",
       "    <tr>\n",
       "      <th>110</th>\n",
       "      <td>2014-06-25</td>\n",
       "      <td>Holiday</td>\n",
       "      <td>Local</td>\n",
       "      <td>Latacunga</td>\n",
       "      <td>Cantonizacion de Latacunga</td>\n",
       "      <td>False</td>\n",
       "      <td>True</td>\n",
       "    </tr>\n",
       "    <tr>\n",
       "      <th>111</th>\n",
       "      <td>2014-06-25</td>\n",
       "      <td>Holiday</td>\n",
       "      <td>Local</td>\n",
       "      <td>Machala</td>\n",
       "      <td>Fundacion de Machala</td>\n",
       "      <td>False</td>\n",
       "      <td>True</td>\n",
       "    </tr>\n",
       "    <tr>\n",
       "      <th>112</th>\n",
       "      <td>2014-06-25</td>\n",
       "      <td>Holiday</td>\n",
       "      <td>Regional</td>\n",
       "      <td>Imbabura</td>\n",
       "      <td>Provincializacion de Imbabura</td>\n",
       "      <td>False</td>\n",
       "      <td>True</td>\n",
       "    </tr>\n",
       "    <tr>\n",
       "      <th>113</th>\n",
       "      <td>2014-06-25</td>\n",
       "      <td>Event</td>\n",
       "      <td>National</td>\n",
       "      <td>Ecuador</td>\n",
       "      <td>Mundial de futbol Brasil: Ecuador-Francia</td>\n",
       "      <td>False</td>\n",
       "      <td>True</td>\n",
       "    </tr>\n",
       "    <tr>\n",
       "      <th>176</th>\n",
       "      <td>2015-06-25</td>\n",
       "      <td>Holiday</td>\n",
       "      <td>Local</td>\n",
       "      <td>Machala</td>\n",
       "      <td>Fundacion de Machala</td>\n",
       "      <td>False</td>\n",
       "      <td>True</td>\n",
       "    </tr>\n",
       "    <tr>\n",
       "      <th>177</th>\n",
       "      <td>2015-06-25</td>\n",
       "      <td>Holiday</td>\n",
       "      <td>Regional</td>\n",
       "      <td>Imbabura</td>\n",
       "      <td>Provincializacion de Imbabura</td>\n",
       "      <td>False</td>\n",
       "      <td>True</td>\n",
       "    </tr>\n",
       "    <tr>\n",
       "      <th>178</th>\n",
       "      <td>2015-06-25</td>\n",
       "      <td>Holiday</td>\n",
       "      <td>Local</td>\n",
       "      <td>Latacunga</td>\n",
       "      <td>Cantonizacion de Latacunga</td>\n",
       "      <td>False</td>\n",
       "      <td>True</td>\n",
       "    </tr>\n",
       "    <tr>\n",
       "      <th>258</th>\n",
       "      <td>2016-06-25</td>\n",
       "      <td>Holiday</td>\n",
       "      <td>Local</td>\n",
       "      <td>Machala</td>\n",
       "      <td>Fundacion de Machala</td>\n",
       "      <td>False</td>\n",
       "      <td>True</td>\n",
       "    </tr>\n",
       "    <tr>\n",
       "      <th>259</th>\n",
       "      <td>2016-06-25</td>\n",
       "      <td>Holiday</td>\n",
       "      <td>Regional</td>\n",
       "      <td>Imbabura</td>\n",
       "      <td>Provincializacion de Imbabura</td>\n",
       "      <td>False</td>\n",
       "      <td>True</td>\n",
       "    </tr>\n",
       "    <tr>\n",
       "      <th>260</th>\n",
       "      <td>2016-06-25</td>\n",
       "      <td>Holiday</td>\n",
       "      <td>Local</td>\n",
       "      <td>Latacunga</td>\n",
       "      <td>Cantonizacion de Latacunga</td>\n",
       "      <td>False</td>\n",
       "      <td>True</td>\n",
       "    </tr>\n",
       "  </tbody>\n",
       "</table>\n",
       "</div>"
      ],
      "text/plain": [
       "           date     type    locale locale_name  \\\n",
       "110  2014-06-25  Holiday     Local   Latacunga   \n",
       "111  2014-06-25  Holiday     Local     Machala   \n",
       "112  2014-06-25  Holiday  Regional    Imbabura   \n",
       "113  2014-06-25    Event  National     Ecuador   \n",
       "176  2015-06-25  Holiday     Local     Machala   \n",
       "177  2015-06-25  Holiday  Regional    Imbabura   \n",
       "178  2015-06-25  Holiday     Local   Latacunga   \n",
       "258  2016-06-25  Holiday     Local     Machala   \n",
       "259  2016-06-25  Holiday  Regional    Imbabura   \n",
       "260  2016-06-25  Holiday     Local   Latacunga   \n",
       "\n",
       "                                   description  transferred  is_holiday  \n",
       "110                 Cantonizacion de Latacunga        False        True  \n",
       "111                       Fundacion de Machala        False        True  \n",
       "112              Provincializacion de Imbabura        False        True  \n",
       "113  Mundial de futbol Brasil: Ecuador-Francia        False        True  \n",
       "176                       Fundacion de Machala        False        True  \n",
       "177              Provincializacion de Imbabura        False        True  \n",
       "178                 Cantonizacion de Latacunga        False        True  \n",
       "258                       Fundacion de Machala        False        True  \n",
       "259              Provincializacion de Imbabura        False        True  \n",
       "260                 Cantonizacion de Latacunga        False        True  "
      ]
     },
     "execution_count": 361,
     "metadata": {},
     "output_type": "execute_result"
    }
   ],
   "source": [
    "holidays_df[holidays_df['date'].isin(['2014-06-25', '2016-06-25', '2015-06-25'])]"
   ]
  },
  {
   "cell_type": "markdown",
   "id": "f49102fe",
   "metadata": {},
   "source": [
    "# Drop the duplicates by date"
   ]
  },
  {
   "cell_type": "code",
   "execution_count": 369,
   "id": "75238047",
   "metadata": {},
   "outputs": [],
   "source": [
    "holidays_df = holidays_df.drop_duplicates(subset=['date'], keep='first')"
   ]
  },
  {
   "cell_type": "code",
   "execution_count": 370,
   "id": "36c01300",
   "metadata": {},
   "outputs": [
    {
     "data": {
      "text/plain": [
       "(296, 7)"
      ]
     },
     "execution_count": 370,
     "metadata": {},
     "output_type": "execute_result"
    }
   ],
   "source": [
    "holidays_df.shape"
   ]
  },
  {
   "cell_type": "markdown",
   "id": "c594bc8a",
   "metadata": {},
   "source": [
    "# Join all the other datasets to Training dataset"
   ]
  },
  {
   "cell_type": "code",
   "execution_count": 373,
   "id": "f27ebd2f",
   "metadata": {},
   "outputs": [],
   "source": [
    "train_w_attr_df = train_df.merge(oil_prices_df, on='date', how='left')\\\n",
    "                          .merge(stores_info_df, on='store_nbr', how='left')\\\n",
    "                          .merge(stores_info_df, on='store_nbr', how='left')\\\n",
    "                          .merge(transactions_by_stores_df, on=['date', 'store_nbr'], how='left')\\\n",
    "                          .merge(holidays_df[['date', 'is_holiday']], on='date', how='left')"
   ]
  },
  {
   "cell_type": "code",
   "execution_count": 374,
   "id": "24bb938e",
   "metadata": {},
   "outputs": [
    {
     "data": {
      "text/plain": [
       "(3000888, 17)"
      ]
     },
     "execution_count": 374,
     "metadata": {},
     "output_type": "execute_result"
    }
   ],
   "source": [
    "train_w_attr_df.shape"
   ]
  },
  {
   "cell_type": "code",
   "execution_count": 375,
   "id": "fbbf2f62",
   "metadata": {},
   "outputs": [
    {
     "data": {
      "text/html": [
       "<div>\n",
       "<style scoped>\n",
       "    .dataframe tbody tr th:only-of-type {\n",
       "        vertical-align: middle;\n",
       "    }\n",
       "\n",
       "    .dataframe tbody tr th {\n",
       "        vertical-align: top;\n",
       "    }\n",
       "\n",
       "    .dataframe thead th {\n",
       "        text-align: right;\n",
       "    }\n",
       "</style>\n",
       "<table border=\"1\" class=\"dataframe\">\n",
       "  <thead>\n",
       "    <tr style=\"text-align: right;\">\n",
       "      <th></th>\n",
       "      <th>product_id</th>\n",
       "      <th>date</th>\n",
       "      <th>store_nbr</th>\n",
       "      <th>product_family</th>\n",
       "      <th>total_sales_by_product</th>\n",
       "      <th>onpromotion</th>\n",
       "      <th>dcoilwtico</th>\n",
       "      <th>store_location_city_x</th>\n",
       "      <th>store_location_state_x</th>\n",
       "      <th>store_type_x</th>\n",
       "      <th>store_cluster_x</th>\n",
       "      <th>store_location_city_y</th>\n",
       "      <th>store_location_state_y</th>\n",
       "      <th>store_type_y</th>\n",
       "      <th>store_cluster_y</th>\n",
       "      <th>transactions</th>\n",
       "      <th>is_holiday</th>\n",
       "    </tr>\n",
       "  </thead>\n",
       "  <tbody>\n",
       "    <tr>\n",
       "      <th>0</th>\n",
       "      <td>0</td>\n",
       "      <td>2013-01-01</td>\n",
       "      <td>1</td>\n",
       "      <td>AUTOMOTIVE</td>\n",
       "      <td>0.0</td>\n",
       "      <td>0</td>\n",
       "      <td>67.714366</td>\n",
       "      <td>Quito</td>\n",
       "      <td>Pichincha</td>\n",
       "      <td>D</td>\n",
       "      <td>13</td>\n",
       "      <td>Quito</td>\n",
       "      <td>Pichincha</td>\n",
       "      <td>D</td>\n",
       "      <td>13</td>\n",
       "      <td>NaN</td>\n",
       "      <td>True</td>\n",
       "    </tr>\n",
       "    <tr>\n",
       "      <th>1</th>\n",
       "      <td>1</td>\n",
       "      <td>2013-01-01</td>\n",
       "      <td>1</td>\n",
       "      <td>BABY CARE</td>\n",
       "      <td>0.0</td>\n",
       "      <td>0</td>\n",
       "      <td>67.714366</td>\n",
       "      <td>Quito</td>\n",
       "      <td>Pichincha</td>\n",
       "      <td>D</td>\n",
       "      <td>13</td>\n",
       "      <td>Quito</td>\n",
       "      <td>Pichincha</td>\n",
       "      <td>D</td>\n",
       "      <td>13</td>\n",
       "      <td>NaN</td>\n",
       "      <td>True</td>\n",
       "    </tr>\n",
       "    <tr>\n",
       "      <th>2</th>\n",
       "      <td>2</td>\n",
       "      <td>2013-01-01</td>\n",
       "      <td>1</td>\n",
       "      <td>BEAUTY</td>\n",
       "      <td>0.0</td>\n",
       "      <td>0</td>\n",
       "      <td>67.714366</td>\n",
       "      <td>Quito</td>\n",
       "      <td>Pichincha</td>\n",
       "      <td>D</td>\n",
       "      <td>13</td>\n",
       "      <td>Quito</td>\n",
       "      <td>Pichincha</td>\n",
       "      <td>D</td>\n",
       "      <td>13</td>\n",
       "      <td>NaN</td>\n",
       "      <td>True</td>\n",
       "    </tr>\n",
       "    <tr>\n",
       "      <th>3</th>\n",
       "      <td>3</td>\n",
       "      <td>2013-01-01</td>\n",
       "      <td>1</td>\n",
       "      <td>BEVERAGES</td>\n",
       "      <td>0.0</td>\n",
       "      <td>0</td>\n",
       "      <td>67.714366</td>\n",
       "      <td>Quito</td>\n",
       "      <td>Pichincha</td>\n",
       "      <td>D</td>\n",
       "      <td>13</td>\n",
       "      <td>Quito</td>\n",
       "      <td>Pichincha</td>\n",
       "      <td>D</td>\n",
       "      <td>13</td>\n",
       "      <td>NaN</td>\n",
       "      <td>True</td>\n",
       "    </tr>\n",
       "    <tr>\n",
       "      <th>4</th>\n",
       "      <td>4</td>\n",
       "      <td>2013-01-01</td>\n",
       "      <td>1</td>\n",
       "      <td>BOOKS</td>\n",
       "      <td>0.0</td>\n",
       "      <td>0</td>\n",
       "      <td>67.714366</td>\n",
       "      <td>Quito</td>\n",
       "      <td>Pichincha</td>\n",
       "      <td>D</td>\n",
       "      <td>13</td>\n",
       "      <td>Quito</td>\n",
       "      <td>Pichincha</td>\n",
       "      <td>D</td>\n",
       "      <td>13</td>\n",
       "      <td>NaN</td>\n",
       "      <td>True</td>\n",
       "    </tr>\n",
       "  </tbody>\n",
       "</table>\n",
       "</div>"
      ],
      "text/plain": [
       "   product_id        date  store_nbr product_family  total_sales_by_product  \\\n",
       "0           0  2013-01-01          1     AUTOMOTIVE                     0.0   \n",
       "1           1  2013-01-01          1      BABY CARE                     0.0   \n",
       "2           2  2013-01-01          1         BEAUTY                     0.0   \n",
       "3           3  2013-01-01          1      BEVERAGES                     0.0   \n",
       "4           4  2013-01-01          1          BOOKS                     0.0   \n",
       "\n",
       "   onpromotion  dcoilwtico store_location_city_x store_location_state_x  \\\n",
       "0            0   67.714366                 Quito              Pichincha   \n",
       "1            0   67.714366                 Quito              Pichincha   \n",
       "2            0   67.714366                 Quito              Pichincha   \n",
       "3            0   67.714366                 Quito              Pichincha   \n",
       "4            0   67.714366                 Quito              Pichincha   \n",
       "\n",
       "  store_type_x  store_cluster_x store_location_city_y store_location_state_y  \\\n",
       "0            D               13                 Quito              Pichincha   \n",
       "1            D               13                 Quito              Pichincha   \n",
       "2            D               13                 Quito              Pichincha   \n",
       "3            D               13                 Quito              Pichincha   \n",
       "4            D               13                 Quito              Pichincha   \n",
       "\n",
       "  store_type_y  store_cluster_y  transactions is_holiday  \n",
       "0            D               13           NaN       True  \n",
       "1            D               13           NaN       True  \n",
       "2            D               13           NaN       True  \n",
       "3            D               13           NaN       True  \n",
       "4            D               13           NaN       True  "
      ]
     },
     "execution_count": 375,
     "metadata": {},
     "output_type": "execute_result"
    }
   ],
   "source": [
    "train_w_attr_df.head()"
   ]
  },
  {
   "cell_type": "markdown",
   "id": "cf6a67eb",
   "metadata": {},
   "source": [
    "# Perfrom data cleaning on the final training dataset"
   ]
  },
  {
   "cell_type": "code",
   "execution_count": null,
   "id": "a2223d59",
   "metadata": {},
   "outputs": [],
   "source": []
  }
 ],
 "metadata": {
  "kernelspec": {
   "display_name": "kaggle_store_sales_prediction_env",
   "language": "python",
   "name": "kaggle_store_sales_prediction_env"
  },
  "language_info": {
   "codemirror_mode": {
    "name": "ipython",
    "version": 3
   },
   "file_extension": ".py",
   "mimetype": "text/x-python",
   "name": "python",
   "nbconvert_exporter": "python",
   "pygments_lexer": "ipython3",
   "version": "3.8.0"
  }
 },
 "nbformat": 4,
 "nbformat_minor": 5
}
